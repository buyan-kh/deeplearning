{
 "cells": [
  {
   "cell_type": "code",
   "execution_count": 2,
   "metadata": {},
   "outputs": [],
   "source": [
    "import struct\n",
    "import numpy as np\n",
    "\n",
    "file_path = './archive/t10k-images.idx3-ubyte'"
   ]
  },
  {
   "cell_type": "code",
   "execution_count": 3,
   "metadata": {},
   "outputs": [
    {
     "name": "stdout",
     "output_type": "stream",
     "text": [
      "Magic Number: 2051\n",
      "Number of Images: 10000\n",
      "Image Dimensions: 28x28\n",
      "Total pixel bytes to read: 7840000\n"
     ]
    }
   ],
   "source": [
    "with open(file_path, 'rb') as f:\n",
    "    magic_number = struct.unpack('>I', f.read(4))[0]\n",
    "    num_images = struct.unpack('>I', f.read(4))[0]\n",
    "    num_rows = struct.unpack('>I', f.read(4))[0]\n",
    "    num_cols = struct.unpack('>I', f.read(4))[0]\n",
    "\n",
    "    print(f\"Magic Number: {magic_number}\")\n",
    "    print(f\"Number of Images: {num_images}\")\n",
    "    print(f\"Image Dimensions: {num_rows}x{num_cols}\")\n",
    "\n",
    "    # Calculate total pixels to read\n",
    "    total_pixels = num_images * num_rows * num_cols\n",
    "    print(f\"Total pixel bytes to read: {total_pixels}\")\n",
    "\n",
    "    raw_pixel_data = f.read(total_pixels)\n",
    "    images = np.frombuffer(raw_pixel_data, dtype=np.uint8)\n",
    "    images = images.reshape((num_images, num_rows, num_cols))\n",
    "\n",
    "    images_flat = images.reshape(num_images, num_rows * num_cols)\n",
    "\n",
    "    print(f\" images loaded with shape: {images.shape}\")\n",
    "    print(f\" flattened images shape: {images_flat.shape}\")\n",
    "    return images_flat\n",
    "\n",
    "def load_mnist_labels(file_path):"
   ]
  },
  {
   "cell_type": "code",
   "execution_count": null,
   "metadata": {},
   "outputs": [],
   "source": [
    "with open(file_path, 'rb') as f:\n",
    "    magic_number = struct.unpack('>I', f.read(4))[0]\n",
    "    num_images = struct.unpack('>I', f.read(4))[0]"
   ]
  },
  {
   "cell_type": "code",
   "execution_count": null,
   "metadata": {},
   "outputs": [],
   "source": []
  }
 ],
 "metadata": {
  "kernelspec": {
   "display_name": "Python 3",
   "language": "python",
   "name": "python3"
  },
  "language_info": {
   "codemirror_mode": {
    "name": "ipython",
    "version": 3
   },
   "file_extension": ".py",
   "mimetype": "text/x-python",
   "name": "python",
   "nbconvert_exporter": "python",
   "pygments_lexer": "ipython3",
   "version": "3.12.3"
  }
 },
 "nbformat": 4,
 "nbformat_minor": 2
}
